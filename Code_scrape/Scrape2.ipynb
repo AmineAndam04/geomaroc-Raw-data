{
 "cells": [
  {
   "cell_type": "code",
   "execution_count": 19,
   "metadata": {},
   "outputs": [],
   "source": [
    "id_region={\"Beni-Mellal-Khenifra\":5,\"Casablanca-Settat\":6,\"Draa-Tafilalet\":8,\"Eddakhla-Oued-Eddahab\":12,\n",
    "           \"Fes-Meknes\":3,\"Guelmim-Oued-Noun\":10,\"Laayoune-Sakia-El-Hamra\":11,\"Marrakech-Safi\":7,\"Oriental\":2,\n",
    "           \"Rabat-Sale-Kenitra\":4,\"Souss-Massa\":9,\"Tanger-Tetouan-Al-Hoceima\":1}\n",
    "nbr_region={\"Beni-Mellal-Khenifra\":5,\"Casablanca-Settat\":9,\"Draa-Tafilalet\":5,\"Eddakhla-Oued-Eddahab\":2,\n",
    "           \"Fes-Meknes\":9,\"Guelmim-Oued-Noun\":4,\"Laayoune-Sakia-El-Hamra\":4,\"Marrakech-Safi\":8,\"Oriental\":8,\n",
    "           \"Rabat-Sale-Kenitra\":7,\"Souss-Massa\":6,\"Tanger-Tetouan-Al-Hoceima\":8}\n",
    "import json\n",
    "path=\"C:/Users/pc/Desktop/MoroccoMap/prov_id.json\"\n",
    "f = open(path)\n",
    "id_province = json.load(f)\n",
    "f.close()"
   ]
  },
  {
   "cell_type": "code",
   "execution_count": 31,
   "metadata": {},
   "outputs": [],
   "source": [
    "import numpy as np\n",
    "nbr=np.array(list(nbr_region.values()))\n",
    "nbr=[0]+list(nbr.cumsum())\n",
    "nbr\n",
    "dicti=dict()\n",
    "region=list(id_region.keys())\n",
    "for i in range(len(id_region)):\n",
    "    prv=list(id_province.keys())[nbr[i]:nbr[i+1]]\n",
    "    code=list(id_province.values())[nbr[i]:nbr[i+1]]\n",
    "    dicti[region[i]]=dict(zip(prv,code))"
   ]
  },
  {
   "cell_type": "code",
   "execution_count": 65,
   "metadata": {},
   "outputs": [],
   "source": [
    "def texTocoord(text):\n",
    "    txt=text.split(\" \")\n",
    "    x,y=[],[]\n",
    "    i=0\n",
    "    while i< (len(txt)-1):\n",
    "        x.append(txt[i])\n",
    "        y.append(txt[i+1])\n",
    "        i+=2\n",
    "    return x,y"
   ]
  },
  {
   "cell_type": "code",
   "execution_count": 88,
   "metadata": {},
   "outputs": [],
   "source": [
    "def getData(data_dict,id_r,id_p):\n",
    "    idx=\"RGPH:communes_reg\"+str(id_r)+\"_prov\"+str(id_p)\n",
    "    province=data_dict['wfs:FeatureCollection']['gml:featureMembers'][idx]\n",
    "    libelle=[\"RGPH:prov_fr\",\"RGPH:prov_ar\",\"RGPH:code_prov\",\"RGPH:com_fr\",\"RGPH:cod_com\",\"RGPH:cercle_fr\",\n",
    "         \"RGPH:cod_cercle\",\"RGPH:com_fr\",\"RGPH:cod_com\",\n",
    "         'RGPH:libelle_ar', 'RGPH:libelle_fr' ,'RGPH:region_fr', 'RGPH:region_ar','RGPH:code_reg', 'RGPH:code_prov']\n",
    "    libelle_c=[x.replace(\"RGPH:\",\"\") for x in libelle]+[\"Data\"]\n",
    "    data=[]\n",
    "    for i in range(len(province)):\n",
    "        prv=[]\n",
    "        for lib in libelle :\n",
    "            prv.append(province[i][lib])\n",
    "        try :\n",
    "            x,y=texTocoord(province[i]['RGPH:the_geom']['gml:MultiSurface']['gml:surfaceMember']['gml:Polygon']['gml:exterior']['gml:LinearRing']['gml:posList'])\n",
    "        except:\n",
    "            x,y=texTocoord(province[i]['RGPH:the_geom']['gml:MultiSurface']['gml:surfaceMember'][0]['gml:Polygon']['gml:exterior']['gml:LinearRing']['gml:posList'])\n",
    "        prv.append((x,y))\n",
    "        prv=dict(zip(libelle_c,prv))\n",
    "        data.append(prv)\n",
    "    return data"
   ]
  },
  {
   "cell_type": "code",
   "execution_count": 93,
   "metadata": {},
   "outputs": [],
   "source": [
    "import xmltodict\n",
    "def xmlTojson(id_region):\n",
    "    for region in list(id_region.keys()):\n",
    "        for province in list(dicti[region].keys()):\n",
    "            path=\"C:/Users/pc/Desktop/MoroccoMap/\"+region+\"/\"+province+\".xml\"\n",
    "            with open(path,encoding='utf-8') as xml_file:\n",
    "                data_dict = xmltodict.parse(xml_file.read())\n",
    "            xml_file.close()\n",
    "            vals=getData(data_dict,id_region[region],dicti[region][province])\n",
    "            data={\"Region\":region,\"Province\":province,\"Data\":vals}\n",
    "            path=path.replace('xml','json')\n",
    "            with open(path, \"w\") as outfile:\n",
    "                json.dump(data, outfile)\n",
    "            print(\"==>\",sep='',end='',flush=True)\n",
    "        print(\"Export json: \"+ region)\n",
    "#xmlTojson(id_region)"
   ]
  },
  {
   "cell_type": "code",
   "execution_count": 94,
   "metadata": {},
   "outputs": [
    {
     "name": "stdout",
     "output_type": "stream",
     "text": [
      "==>==>==>==>==>Export json: Beni-Mellal-Khenifra\n",
      "==>==>==>==>==>==>==>==>==>Export json: Casablanca-Settat\n",
      "==>==>==>==>==>Export json: Draa-Tafilalet\n",
      "==>==>Export json: Eddakhla-Oued-Eddahab\n",
      "==>==>==>==>==>==>==>==>==>Export json: Fes-Meknes\n",
      "==>==>==>==>Export json: Guelmim-Oued-Noun\n",
      "==>==>==>==>Export json: Laayoune-Sakia-El-Hamra\n",
      "==>==>==>==>==>==>==>==>Export json: Marrakech-Safi\n",
      "==>==>==>==>==>==>==>==>Export json: Oriental\n",
      "==>==>==>==>==>==>==>Export json: Rabat-Sale-Kenitra\n",
      "==>==>==>==>==>==>Export json: Souss-Massa\n",
      "==>==>==>==>==>==>==>==>Export json: Tanger-Tetouan-Al-Hoceima\n",
      "Wall time: 25.2 s\n"
     ]
    }
   ],
   "source": [
    "%%time\n",
    "xmlTojson(id_region)"
   ]
  },
  {
   "cell_type": "code",
   "execution_count": 1,
   "metadata": {},
   "outputs": [],
   "source": [
    "import xmltodict\n",
    "with open(\"C:/Users/pc/Desktop/MoroccoMap/Maroc.xml\",encoding='utf-8') as xml_file:\n",
    "    data_dict = xmltodict.parse(xml_file.read())\n",
    "xml_file.close()"
   ]
  },
  {
   "cell_type": "code",
   "execution_count": 1,
   "metadata": {},
   "outputs": [],
   "source": [
    "#Extract from Maroc.xml\n",
    "def xmlTojson2():\n",
    "        path=\"C:/Users/pc/Desktop/MoroccoMap/Maroc.xml\"\n",
    "        with open(path,encoding='utf-8') as xml_file:\n",
    "            data_dict = xmltodict.parse(xml_file.read())\n",
    "        xml_file.close()\n",
    "        region=data_dict['wfs:FeatureCollection']['gml:featureMembers']['RGPH:regions']\n",
    "        libelle=['RGPH:libelle_fr','RGPH:libelle_ar','RGPH:code_reg']\n",
    "        libelle_c=[x.replace('RGPH:','') for x in libelle]+['Coordinates']\n",
    "        data=dict()\n",
    "        for i in range(len(region)):\n",
    "            reg=[]\n",
    "            for lib in libelle:\n",
    "                reg.append(region[i][lib])\n",
    "            x,y=texTocoord(region[i]['RGPH:the_geom']['gml:MultiSurface']['gml:surfaceMember']['gml:Polygon']['gml:exterior']['gml:LinearRing']['gml:posList'])\n",
    "            reg.append((x,y))\n",
    "            reg=dict(zip(libelle_c,reg))\n",
    "            data[reg['libelle_fr'].replace(\"é\",\"e\").replace(\"è\",\"e\").replace(\" \",\"-\").replace(\"â\",'a')]=reg\n",
    "        path=path.replace('xml','json')\n",
    "        with open(path, \"w\") as outfile:\n",
    "            json.dump(data, outfile)\n",
    "        print(\"JSON exported \")\n",
    "xmlTojson2()"
   ]
  }
 ],
 "metadata": {
  "kernelspec": {
   "display_name": "Python 3",
   "language": "python",
   "name": "python3"
  },
  "language_info": {
   "codemirror_mode": {
    "name": "ipython",
    "version": 3
   },
   "file_extension": ".py",
   "mimetype": "text/x-python",
   "name": "python",
   "nbconvert_exporter": "python",
   "pygments_lexer": "ipython3",
   "version": "3.7.3"
  }
 },
 "nbformat": 4,
 "nbformat_minor": 2
}
