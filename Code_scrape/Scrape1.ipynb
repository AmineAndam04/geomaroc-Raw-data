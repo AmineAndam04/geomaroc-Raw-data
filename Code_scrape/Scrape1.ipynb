{
 "cells": [
  {
   "cell_type": "code",
   "execution_count": null,
   "metadata": {},
   "outputs": [],
   "source": [
    "import json\n",
    "import xmltodict"
   ]
  },
  {
   "cell_type": "code",
   "execution_count": 15,
   "metadata": {},
   "outputs": [
    {
     "data": {
      "text/plain": [
       "12"
      ]
     },
     "execution_count": 15,
     "metadata": {},
     "output_type": "execute_result"
    }
   ],
   "source": [
    "id_region={\"Beni-Mellal-Khenifra\":5,\"Casablanca-Settat\":6,\"Draa-Tafilalet\":8,\"Eddakhla-Oued-Eddahab\":12,\n",
    "           \"Fes-Meknes\":3,\"Guelmim-Oued-Noun\":10,\"Laayoune-Sakia-El-Hamra\":11,\"Marrakech-Safi\":7,\"Oriental\":2,\n",
    "           \"Rabat-Sale-Kenitra\":4,\"Souss-Massa\":9,\"Tanger-Tetouan-Al-Hoceima\":1}\n",
    "len(id_region)"
   ]
  },
  {
   "cell_type": "code",
   "execution_count": 11,
   "metadata": {},
   "outputs": [],
   "source": [
    "def texTocoord(text):\n",
    "    txt=text.split(\" \")\n",
    "    x,y=[],[]\n",
    "    i=0\n",
    "    while i< (len(txt)-1):\n",
    "        x.append(txt[i])\n",
    "        y.append(txt[i+1])\n",
    "        i+=2\n",
    "    return x,y"
   ]
  },
  {
   "cell_type": "code",
   "execution_count": 12,
   "metadata": {},
   "outputs": [],
   "source": [
    "def getData(data_dict,id):\n",
    "    idx='RGPH:provinces_reg'+str(id)\n",
    "    province=dict(data_dict)['wfs:FeatureCollection']['gml:featureMembers'][idx]\n",
    "    libelle=['RGPH:libelle_ar', 'RGPH:libelle_fr' ,'RGPH:region_fr', 'RGPH:region_ar','RGPH:code_reg', 'RGPH:code_prov']\n",
    "    libelle_c=['libelle_ar','libelle_fr','region_fr','region_ar','code_reg','code_prov','coordinates']\n",
    "    data=[]\n",
    "    for i in range(len(province)):\n",
    "        prv=[]\n",
    "        for lib in libelle :\n",
    "            prv.append(province[i][lib])\n",
    "        x,y=texTocoord(province[i]['RGPH:the_geom']['gml:MultiSurface']['gml:surfaceMember']['gml:Polygon']['gml:exterior']['gml:LinearRing']['gml:posList'])\n",
    "        prv.append((x,y))\n",
    "        prv=dict(zip(libelle_c,prv))\n",
    "        data.append(prv)\n",
    "    return data"
   ]
  },
  {
   "cell_type": "code",
   "execution_count": 14,
   "metadata": {},
   "outputs": [
    {
     "name": "stdout",
     "output_type": "stream",
     "text": [
      "Export json: Beni-Mellal-Khenifra\n",
      "Export json: Casablanca-Settat\n",
      "Export json: Draa-Tafilalet\n",
      "Export json: Eddakhla-Oued-Eddahab\n",
      "Export json: Fes-Meknes\n",
      "Export json: Guelmim-Oued-Noun\n",
      "Export json: Laayoune-Sakia-El-Hamra\n",
      "Export json: Marrakech-Safi\n",
      "Export json: Oriental\n",
      "Export json: Rabat-Sale-Kenitra\n",
      "Export json: Souss-Massa\n",
      "Export json: Tanger-Tetouan-Al-Hoceima\n"
     ]
    }
   ],
   "source": [
    "def xmlTojson(id_region):\n",
    "    for region in list(id_region.keys()):\n",
    "        path=\"C:/Users/pc/Desktop/MoroccoMap/region/\"+region+\".xml\"\n",
    "        with open(path,encoding='utf-8') as xml_file:\n",
    "            data_dict = xmltodict.parse(xml_file.read())\n",
    "        xml_file.close()\n",
    "        vals=getData(data_dict,id_region[region])\n",
    "        data={\"Region\":region,\"Data\":vals}\n",
    "        path=path.replace('xml','json')\n",
    "        with open(path, \"w\") as outfile:\n",
    "            json.dump(data, outfile)\n",
    "        print(\"Export json: \"+ region)\n",
    "xmlTojson(id_region)"
   ]
  },
  {
   "cell_type": "code",
   "execution_count": 22,
   "metadata": {},
   "outputs": [
    {
     "name": "stdout",
     "output_type": "stream",
     "text": [
      "Extracted from: Beni-Mellal-Khenifra\n",
      "Extracted from: Casablanca-Settat\n",
      "Extracted from: Draa-Tafilalet\n",
      "Extracted from: Eddakhla-Oued-Eddahab\n",
      "Extracted from: Fes-Meknes\n",
      "Extracted from: Guelmim-Oued-Noun\n",
      "Extracted from: Laayoune-Sakia-El-Hamra\n",
      "Extracted from: Marrakech-Safi\n",
      "Extracted from: Oriental\n",
      "Extracted from: Rabat-Sale-Kenitra\n",
      "Extracted from: Souss-Massa\n",
      "Extracted from: Tanger-Tetouan-Al-Hoceima\n"
     ]
    }
   ],
   "source": [
    "#Extract prov_id\n",
    "prov_id=dict()\n",
    "for region in id_region:\n",
    "    path=\"C:/Users/pc/Desktop/MoroccoMap/region/\"+region+\".json\"\n",
    "    f = open(path)\n",
    "    data = json.load(f)[\"Data\"]\n",
    "    for i in range(len(data)):\n",
    "        pr=data[i][\"libelle_fr\"].replace(\"é\",\"e\").replace(\"è\",\"e\").replace(\" \",'-')\n",
    "        prov_id[pr]=int(float(data[i][\"code_prov\"]))\n",
    "    f.close()\n",
    "    print('Extracted from: '+region)\n",
    "path=\"C:/Users/pc/Desktop/MoroccoMap/\"+\"prov_id\"+\".json\"\n",
    "with open(path, \"w\") as outfile:\n",
    "    json.dump(prov_id, outfile)"
   ]
  },
  {
   "cell_type": "code",
   "execution_count": null,
   "metadata": {},
   "outputs": [],
   "source": []
  }
 ],
 "metadata": {
  "kernelspec": {
   "display_name": "Python 3",
   "language": "python",
   "name": "python3"
  },
  "language_info": {
   "codemirror_mode": {
    "name": "ipython",
    "version": 3
   },
   "file_extension": ".py",
   "mimetype": "text/x-python",
   "name": "python",
   "nbconvert_exporter": "python",
   "pygments_lexer": "ipython3",
   "version": "3.7.3"
  }
 },
 "nbformat": 4,
 "nbformat_minor": 2
}
